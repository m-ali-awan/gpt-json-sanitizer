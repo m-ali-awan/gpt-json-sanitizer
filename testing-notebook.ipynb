{
 "cells": [
  {
   "cell_type": "code",
   "execution_count": 4,
   "metadata": {},
   "outputs": [],
   "source": [
    "from gpt_json_sanitizer.json_fixer import fix_json_response"
   ]
  },
  {
   "cell_type": "code",
   "execution_count": 10,
   "metadata": {},
   "outputs": [],
   "source": [
    "import json"
   ]
  },
  {
   "cell_type": "code",
   "execution_count": 18,
   "metadata": {},
   "outputs": [
    {
     "name": "stdout",
     "output_type": "stream",
     "text": [
      "{'key': 'value'}\n"
     ]
    }
   ],
   "source": [
    "response = '''{\\\"key\\\": \\\"value\\\"}'''\n",
    "print(fix_json_response(response))"
   ]
  },
  {
   "cell_type": "code",
   "execution_count": 19,
   "metadata": {},
   "outputs": [
    {
     "name": "stdout",
     "output_type": "stream",
     "text": [
      "[{'key1': 'value1', 'key2': 'value2'}, {'key3': 'value3', 'key4': 'value4'}]\n"
     ]
    }
   ],
   "source": [
    "response = '''{\n",
    "            \"key1\": \"value1\",\n",
    "            \"key2\": \"value2\"\n",
    "            },\n",
    "            {\n",
    "            \"key3\": \"value3\",\n",
    "            \"key4\": \"value4\"\n",
    "            }'''\n",
    "print(fix_json_response(response))"
   ]
  },
  {
   "cell_type": "code",
   "execution_count": null,
   "metadata": {},
   "outputs": [],
   "source": [
    "\n",
    "def test_on_real_example(self) -> None:\n",
    "    \"\"\"Tests fix on real example response.\n",
    "\n",
    "\n",
    "    \"\"\"\n",
    "\n",
    "    response = 'Here is the recipe for Apple Pancakes in the required JSON format:\\n\\n```json\\n{\\n  \"name\": \"Apple Pancakes\",\\n  \"serving_size\": 1,\\n  \"ingredients\": [\\n    {\\n      \"id\": 1,\\n      \"name\": \"flour\",\\n      \"quantity\": 1,\\n      \"unit\": \"cup\"\\n    },\\n    {\\n      \"id\": 2,\\n      \"name\": \"apple\",\\n      \"quantity\": 1,\\n      \"unit\": \"large\",\\n      \"notes\": \"peeled\"\\n    },\\n    {\\n      \"id\": 3,\\n      \"name\": \"sugar\",\\n      \"quantity\": 1,\\n      \"unit\": \"tablespoon\"\\n    },\\n    {\\n      \"id\": 4,\\n      \"name\": \"cinnamon\",\\n      \"quantity\": 1,\\n      \"unit\": \"tablespoon\"\\n    },\\n    {\\n      \"id\": 5,\\n      \"name\": \"baking powder\",\\n      \"quantity\": 0.5,\\n      \"unit\": \"teaspoon\"\\n    },\\n    {\\n      \"id\": 6,\\n      \"name\": \"vanilla extract\",\\n      \"quantity\": 1,\\n      \"unit\": \"teaspoon\"\\n    },\\n    {\\n      \"id\": 7,\\n      \"name\": \"milk\",\\n      \"quantity\": 2/3,\\n      \"unit\": \"cup\"\\n    },\\n    {\\n      \"id\": 8,\\n      \"name\": \"egg\",\\n      \"quantity\": 1,\\n      \"unit\": \"unit\"\\n    },\\n    {\\n      \"id\": 9,\\n      \"name\": \"butter\",\\n      \"quantity\": 1,\\n      \"unit\": \"tablespoon\"\\n    }\\n  ],\\n  \"steps\": [\\n    {\\n      \"number\": 1,\\n      \"description\": \"In a medium bowl, combine flour, sugar, cinnamon, and baking powder.\"\\n    },\\n    {\\n      \"number\": 2,\\n      \"description\": \"Separate the egg yolk and egg white.\",\\n      \"preparation_time\": 5,\\n      \"used_ingredients\": [8]\\n    },\\n    {\\n      \"number\": 3,\\n      \"description\": \"Whisk the egg white until foamy.\",\\n      \"preparation_time\": 5,\\n      \"used_ingredients\": [8]\\n    },\\n    {\\n      \"number\": 4,\\n      \"description\": \"Slice the peeled apple into thin strips or grate the apple.\",\\n      \"preparation_time\": 5,\\n      \"used_ingredients\": [2]\\n    },\\n    {\\n      \"number\": 5,\\n      \"description\": \"Combine dry ingredients, apple, vanilla extract, egg white, and milk into a homogenous batter.\",\\n      \"preparation_time\": 5,\\n      \"used_ingredients\": [1, 3, 4, 6, 7, 8, 2]\\n    },\\n    {\\n      \"number\": 6,\\n      \"description\": \"To a large pan, add butter. Add the batter (about 3 tbsp per pancake) and cook for 2 min per side on medium-high heat.\",\\n      \"cooking_time\": 10,\\n      \"used_ingredients\": [9, 5]\\n    }\\n  ],\\n  \"total_preparation_time\": {\\n    \"min\": 25,\\n    \"max\": 25\\n  },\\n  \"total_cooking_time\": {\\n    \"min\": 10,\\n    \"max\": 10\\n  },\\n  \"total_waiting_time\": {\\n    \"min\": 0,\\n    \"max\": 0\\n  },\\n  \"comments\": [],\\n  \"inference_assumptions\": [\\n    \"Assumed that the recipe serves one person\",\\n    \"Assumed that the `large` apple refers to a standard-sized apple\"\\n  ]\\n}\\n```\\nThe recipe makes one serving of Apple Pancakes and takes approximately 25 minutes to prepare and 10 minutes to cook.'\n",
    "    assert isinstance(fix_json_response(response), dict)"
   ]
  },
  {
   "cell_type": "code",
   "execution_count": 2,
   "metadata": {},
   "outputs": [],
   "source": [
    "response = 'Here is the recipe for Apple Pancakes in the required JSON format:\\n\\n```json\\n{\\n  \"name\": \"Apple Pancakes\",\\n  \"serving_size\": 1,\\n  \"ingredients\": [\\n    {\\n      \"id\": 1,\\n      \"name\": \"flour\",\\n      \"quantity\": 1,\\n      \"unit\": \"cup\"\\n    },\\n    {\\n      \"id\": 2,\\n      \"name\": \"apple\",\\n      \"quantity\": 1,\\n      \"unit\": \"large\",\\n      \"notes\": \"peeled\"\\n    },\\n    {\\n      \"id\": 3,\\n      \"name\": \"sugar\",\\n      \"quantity\": 1,\\n      \"unit\": \"tablespoon\"\\n    },\\n    {\\n      \"id\": 4,\\n      \"name\": \"cinnamon\",\\n      \"quantity\": 1,\\n      \"unit\": \"tablespoon\"\\n    },\\n    {\\n      \"id\": 5,\\n      \"name\": \"baking powder\",\\n      \"quantity\": 0.5,\\n      \"unit\": \"teaspoon\"\\n    },\\n    {\\n      \"id\": 6,\\n      \"name\": \"vanilla extract\",\\n      \"quantity\": 1,\\n      \"unit\": \"teaspoon\"\\n    },\\n    {\\n      \"id\": 7,\\n      \"name\": \"milk\",\\n      \"quantity\": 2/3,\\n      \"unit\": \"cup\"\\n    },\\n    {\\n      \"id\": 8,\\n      \"name\": \"egg\",\\n      \"quantity\": 1,\\n      \"unit\": \"unit\"\\n    },\\n    {\\n      \"id\": 9,\\n      \"name\": \"butter\",\\n      \"quantity\": 1,\\n      \"unit\": \"tablespoon\"\\n    }\\n  ],\\n  \"steps\": [\\n    {\\n      \"number\": 1,\\n      \"description\": \"In a medium bowl, combine flour, sugar, cinnamon, and baking powder.\"\\n    },\\n    {\\n      \"number\": 2,\\n      \"description\": \"Separate the egg yolk and egg white.\",\\n      \"preparation_time\": 5,\\n      \"used_ingredients\": [8]\\n    },\\n    {\\n      \"number\": 3,\\n      \"description\": \"Whisk the egg white until foamy.\",\\n      \"preparation_time\": 5,\\n      \"used_ingredients\": [8]\\n    },\\n    {\\n      \"number\": 4,\\n      \"description\": \"Slice the peeled apple into thin strips or grate the apple.\",\\n      \"preparation_time\": 5,\\n      \"used_ingredients\": [2]\\n    },\\n    {\\n      \"number\": 5,\\n      \"description\": \"Combine dry ingredients, apple, vanilla extract, egg white, and milk into a homogenous batter.\",\\n      \"preparation_time\": 5,\\n      \"used_ingredients\": [1, 3, 4, 6, 7, 8, 2]\\n    },\\n    {\\n      \"number\": 6,\\n      \"description\": \"To a large pan, add butter. Add the batter (about 3 tbsp per pancake) and cook for 2 min per side on medium-high heat.\",\\n      \"cooking_time\": 10,\\n      \"used_ingredients\": [9, 5]\\n    }\\n  ],\\n  \"total_preparation_time\": {\\n    \"min\": 25,\\n    \"max\": 25\\n  },\\n  \"total_cooking_time\": {\\n    \"min\": 10,\\n    \"max\": 10\\n  },\\n  \"total_waiting_time\": {\\n    \"min\": 0,\\n    \"max\": 0\\n  },\\n  \"comments\": [],\\n  \"inference_assumptions\": [\\n    \"Assumed that the recipe serves one person\",\\n    \"Assumed that the `large` apple refers to a standard-sized apple\"\\n  ]\\n}\\n```\\nThe recipe makes one serving of Apple Pancakes and takes approximately 25 minutes to prepare and 10 minutes to cook.'\n"
   ]
  },
  {
   "cell_type": "code",
   "execution_count": 5,
   "metadata": {},
   "outputs": [
    {
     "name": "stdout",
     "output_type": "stream",
     "text": [
      "line 59: {   \"name\": \"Apple Pancakes\",   \"serving_size\": 1,   \"ingredients\": [     {       \"id\": 1,       \"name\": \"flour\",       \"quantity\": 1,       \"unit\": \"cup\"     },     {       \"id\": 2,       \"name\": \"apple\",       \"quantity\": 1,       \"unit\": \"large\",       \"notes\": \"peeled\"     },     {       \"id\": 3,       \"name\": \"sugar\",       \"quantity\": 1,       \"unit\": \"tablespoon\"     },     {       \"id\": 4,       \"name\": \"cinnamon\",       \"quantity\": 1,       \"unit\": \"tablespoon\"     },     {       \"id\": 5,       \"name\": \"baking powder\",       \"quantity\": 0.5,       \"unit\": \"teaspoon\"     },     {       \"id\": 6,       \"name\": \"vanilla extract\",       \"quantity\": 1,       \"unit\": \"teaspoon\"     },     {       \"id\": 7,       \"name\": \"milk\",       \"quantity\": 2/3,       \"unit\": \"cup\"     },     {       \"id\": 8,       \"name\": \"egg\",       \"quantity\": 1,       \"unit\": \"unit\"     },     {       \"id\": 9,       \"name\": \"butter\",       \"quantity\": 1,       \"unit\": \"tablespoon\"     }   ],   \"steps\": [     {       \"number\": 1,       \"description\": \"In a medium bowl, combine flour, sugar, cinnamon, and baking powder.\"     },     {       \"number\": 2,       \"description\": \"Separate the egg yolk and egg white.\",       \"preparation_time\": 5,       \"used_ingredients\": [8]     },     {       \"number\": 3,       \"description\": \"Whisk the egg white until foamy.\",       \"preparation_time\": 5,       \"used_ingredients\": [8]     },     {       \"number\": 4,       \"description\": \"Slice the peeled apple into thin strips or grate the apple.\",       \"preparation_time\": 5,       \"used_ingredients\": [2]     },     {       \"number\": 5,       \"description\": \"Combine dry ingredients, apple, vanilla extract, egg white, and milk into a homogenous batter.\",       \"preparation_time\": 5,       \"used_ingredients\": [1, 3, 4, 6, 7, 8, 2]     },     {       \"number\": 6,       \"description\": \"To a large pan, add butter. Add the batter (about 3 tbsp per pancake) and cook for 2 min per side on medium-high heat.\",       \"cooking_time\": 10,       \"used_ingredients\": [9, 5]     }   ],   \"total_preparation_time\": {     \"min\": 25,     \"max\": 25   },   \"total_cooking_time\": {     \"min\": 10,     \"max\": 10   },   \"total_waiting_time\": {     \"min\": 0,     \"max\": 0   },   \"comments\": [],   \"inference_assumptions\": [     \"Assumed that the recipe serves one person\",     \"Assumed that the `large` apple refers to a standard-sized apple\"   ] }\n"
     ]
    },
    {
     "ename": "ValueError",
     "evalue": "Unable to fix JSON response",
     "output_type": "error",
     "traceback": [
      "\u001b[0;31m---------------------------------------------------------------------------\u001b[0m",
      "\u001b[0;31mJSONDecodeError\u001b[0m                           Traceback (most recent call last)",
      "File \u001b[0;32m~/D/RealWork/opensource-contributions/gpt-json-sanitizer/gpt_json_sanitizer/json_fixer.py:62\u001b[0m, in \u001b[0;36mfix_json_response\u001b[0;34m(response)\u001b[0m\n\u001b[1;32m     61\u001b[0m \u001b[38;5;28;01mtry\u001b[39;00m:\n\u001b[0;32m---> 62\u001b[0m     \u001b[38;5;28;01mreturn\u001b[39;00m \u001b[43mjson\u001b[49m\u001b[38;5;241;43m.\u001b[39;49m\u001b[43mloads\u001b[49m\u001b[43m(\u001b[49m\u001b[43mcleaned_string\u001b[49m\u001b[43m)\u001b[49m\n\u001b[1;32m     63\u001b[0m \u001b[38;5;28;01mexcept\u001b[39;00m json\u001b[38;5;241m.\u001b[39mJSONDecodeError:\n",
      "File \u001b[0;32m~/.pyenv/versions/3.10.4/lib/python3.10/json/__init__.py:346\u001b[0m, in \u001b[0;36mloads\u001b[0;34m(s, cls, object_hook, parse_float, parse_int, parse_constant, object_pairs_hook, **kw)\u001b[0m\n\u001b[1;32m    343\u001b[0m \u001b[38;5;28;01mif\u001b[39;00m (\u001b[38;5;28mcls\u001b[39m \u001b[38;5;129;01mis\u001b[39;00m \u001b[38;5;28;01mNone\u001b[39;00m \u001b[38;5;129;01mand\u001b[39;00m object_hook \u001b[38;5;129;01mis\u001b[39;00m \u001b[38;5;28;01mNone\u001b[39;00m \u001b[38;5;129;01mand\u001b[39;00m\n\u001b[1;32m    344\u001b[0m         parse_int \u001b[38;5;129;01mis\u001b[39;00m \u001b[38;5;28;01mNone\u001b[39;00m \u001b[38;5;129;01mand\u001b[39;00m parse_float \u001b[38;5;129;01mis\u001b[39;00m \u001b[38;5;28;01mNone\u001b[39;00m \u001b[38;5;129;01mand\u001b[39;00m\n\u001b[1;32m    345\u001b[0m         parse_constant \u001b[38;5;129;01mis\u001b[39;00m \u001b[38;5;28;01mNone\u001b[39;00m \u001b[38;5;129;01mand\u001b[39;00m object_pairs_hook \u001b[38;5;129;01mis\u001b[39;00m \u001b[38;5;28;01mNone\u001b[39;00m \u001b[38;5;129;01mand\u001b[39;00m \u001b[38;5;129;01mnot\u001b[39;00m kw):\n\u001b[0;32m--> 346\u001b[0m     \u001b[38;5;28;01mreturn\u001b[39;00m \u001b[43m_default_decoder\u001b[49m\u001b[38;5;241;43m.\u001b[39;49m\u001b[43mdecode\u001b[49m\u001b[43m(\u001b[49m\u001b[43ms\u001b[49m\u001b[43m)\u001b[49m\n\u001b[1;32m    347\u001b[0m \u001b[38;5;28;01mif\u001b[39;00m \u001b[38;5;28mcls\u001b[39m \u001b[38;5;129;01mis\u001b[39;00m \u001b[38;5;28;01mNone\u001b[39;00m:\n",
      "File \u001b[0;32m~/.pyenv/versions/3.10.4/lib/python3.10/json/decoder.py:337\u001b[0m, in \u001b[0;36mJSONDecoder.decode\u001b[0;34m(self, s, _w)\u001b[0m\n\u001b[1;32m    333\u001b[0m \u001b[38;5;250m\u001b[39m\u001b[38;5;124;03m\"\"\"Return the Python representation of ``s`` (a ``str`` instance\u001b[39;00m\n\u001b[1;32m    334\u001b[0m \u001b[38;5;124;03mcontaining a JSON document).\u001b[39;00m\n\u001b[1;32m    335\u001b[0m \n\u001b[1;32m    336\u001b[0m \u001b[38;5;124;03m\"\"\"\u001b[39;00m\n\u001b[0;32m--> 337\u001b[0m obj, end \u001b[38;5;241m=\u001b[39m \u001b[38;5;28;43mself\u001b[39;49m\u001b[38;5;241;43m.\u001b[39;49m\u001b[43mraw_decode\u001b[49m\u001b[43m(\u001b[49m\u001b[43ms\u001b[49m\u001b[43m,\u001b[49m\u001b[43m \u001b[49m\u001b[43midx\u001b[49m\u001b[38;5;241;43m=\u001b[39;49m\u001b[43m_w\u001b[49m\u001b[43m(\u001b[49m\u001b[43ms\u001b[49m\u001b[43m,\u001b[49m\u001b[43m \u001b[49m\u001b[38;5;241;43m0\u001b[39;49m\u001b[43m)\u001b[49m\u001b[38;5;241;43m.\u001b[39;49m\u001b[43mend\u001b[49m\u001b[43m(\u001b[49m\u001b[43m)\u001b[49m\u001b[43m)\u001b[49m\n\u001b[1;32m    338\u001b[0m end \u001b[38;5;241m=\u001b[39m _w(s, end)\u001b[38;5;241m.\u001b[39mend()\n",
      "File \u001b[0;32m~/.pyenv/versions/3.10.4/lib/python3.10/json/decoder.py:353\u001b[0m, in \u001b[0;36mJSONDecoder.raw_decode\u001b[0;34m(self, s, idx)\u001b[0m\n\u001b[1;32m    352\u001b[0m \u001b[38;5;28;01mtry\u001b[39;00m:\n\u001b[0;32m--> 353\u001b[0m     obj, end \u001b[38;5;241m=\u001b[39m \u001b[38;5;28;43mself\u001b[39;49m\u001b[38;5;241;43m.\u001b[39;49m\u001b[43mscan_once\u001b[49m\u001b[43m(\u001b[49m\u001b[43ms\u001b[49m\u001b[43m,\u001b[49m\u001b[43m \u001b[49m\u001b[43midx\u001b[49m\u001b[43m)\u001b[49m\n\u001b[1;32m    354\u001b[0m \u001b[38;5;28;01mexcept\u001b[39;00m \u001b[38;5;167;01mStopIteration\u001b[39;00m \u001b[38;5;28;01mas\u001b[39;00m err:\n",
      "\u001b[0;31mJSONDecodeError\u001b[0m: Expecting ',' delimiter: line 45 column 20 (char 758)",
      "\nDuring handling of the above exception, another exception occurred:\n",
      "\u001b[0;31mJSONDecodeError\u001b[0m                           Traceback (most recent call last)",
      "File \u001b[0;32m~/D/RealWork/opensource-contributions/gpt-json-sanitizer/gpt_json_sanitizer/json_fixer.py:66\u001b[0m, in \u001b[0;36mfix_json_response\u001b[0;34m(response)\u001b[0m\n\u001b[1;32m     65\u001b[0m         \u001b[38;5;66;03m#print(f\"Attempting to parse wrapped string: {wrapped_string}\")\u001b[39;00m\n\u001b[0;32m---> 66\u001b[0m         \u001b[38;5;28;01mreturn\u001b[39;00m \u001b[43mjson\u001b[49m\u001b[38;5;241;43m.\u001b[39;49m\u001b[43mloads\u001b[49m\u001b[43m(\u001b[49m\u001b[43mwrapped_string\u001b[49m\u001b[43m)\u001b[49m\n\u001b[1;32m     67\u001b[0m \u001b[38;5;28;01mexcept\u001b[39;00m json\u001b[38;5;241m.\u001b[39mJSONDecodeError:\n\u001b[1;32m     68\u001b[0m     \u001b[38;5;66;03m# Handle common issues\u001b[39;00m\n",
      "File \u001b[0;32m~/.pyenv/versions/3.10.4/lib/python3.10/json/__init__.py:346\u001b[0m, in \u001b[0;36mloads\u001b[0;34m(s, cls, object_hook, parse_float, parse_int, parse_constant, object_pairs_hook, **kw)\u001b[0m\n\u001b[1;32m    343\u001b[0m \u001b[38;5;28;01mif\u001b[39;00m (\u001b[38;5;28mcls\u001b[39m \u001b[38;5;129;01mis\u001b[39;00m \u001b[38;5;28;01mNone\u001b[39;00m \u001b[38;5;129;01mand\u001b[39;00m object_hook \u001b[38;5;129;01mis\u001b[39;00m \u001b[38;5;28;01mNone\u001b[39;00m \u001b[38;5;129;01mand\u001b[39;00m\n\u001b[1;32m    344\u001b[0m         parse_int \u001b[38;5;129;01mis\u001b[39;00m \u001b[38;5;28;01mNone\u001b[39;00m \u001b[38;5;129;01mand\u001b[39;00m parse_float \u001b[38;5;129;01mis\u001b[39;00m \u001b[38;5;28;01mNone\u001b[39;00m \u001b[38;5;129;01mand\u001b[39;00m\n\u001b[1;32m    345\u001b[0m         parse_constant \u001b[38;5;129;01mis\u001b[39;00m \u001b[38;5;28;01mNone\u001b[39;00m \u001b[38;5;129;01mand\u001b[39;00m object_pairs_hook \u001b[38;5;129;01mis\u001b[39;00m \u001b[38;5;28;01mNone\u001b[39;00m \u001b[38;5;129;01mand\u001b[39;00m \u001b[38;5;129;01mnot\u001b[39;00m kw):\n\u001b[0;32m--> 346\u001b[0m     \u001b[38;5;28;01mreturn\u001b[39;00m \u001b[43m_default_decoder\u001b[49m\u001b[38;5;241;43m.\u001b[39;49m\u001b[43mdecode\u001b[49m\u001b[43m(\u001b[49m\u001b[43ms\u001b[49m\u001b[43m)\u001b[49m\n\u001b[1;32m    347\u001b[0m \u001b[38;5;28;01mif\u001b[39;00m \u001b[38;5;28mcls\u001b[39m \u001b[38;5;129;01mis\u001b[39;00m \u001b[38;5;28;01mNone\u001b[39;00m:\n",
      "File \u001b[0;32m~/.pyenv/versions/3.10.4/lib/python3.10/json/decoder.py:337\u001b[0m, in \u001b[0;36mJSONDecoder.decode\u001b[0;34m(self, s, _w)\u001b[0m\n\u001b[1;32m    333\u001b[0m \u001b[38;5;250m\u001b[39m\u001b[38;5;124;03m\"\"\"Return the Python representation of ``s`` (a ``str`` instance\u001b[39;00m\n\u001b[1;32m    334\u001b[0m \u001b[38;5;124;03mcontaining a JSON document).\u001b[39;00m\n\u001b[1;32m    335\u001b[0m \n\u001b[1;32m    336\u001b[0m \u001b[38;5;124;03m\"\"\"\u001b[39;00m\n\u001b[0;32m--> 337\u001b[0m obj, end \u001b[38;5;241m=\u001b[39m \u001b[38;5;28;43mself\u001b[39;49m\u001b[38;5;241;43m.\u001b[39;49m\u001b[43mraw_decode\u001b[49m\u001b[43m(\u001b[49m\u001b[43ms\u001b[49m\u001b[43m,\u001b[49m\u001b[43m \u001b[49m\u001b[43midx\u001b[49m\u001b[38;5;241;43m=\u001b[39;49m\u001b[43m_w\u001b[49m\u001b[43m(\u001b[49m\u001b[43ms\u001b[49m\u001b[43m,\u001b[49m\u001b[43m \u001b[49m\u001b[38;5;241;43m0\u001b[39;49m\u001b[43m)\u001b[49m\u001b[38;5;241;43m.\u001b[39;49m\u001b[43mend\u001b[49m\u001b[43m(\u001b[49m\u001b[43m)\u001b[49m\u001b[43m)\u001b[49m\n\u001b[1;32m    338\u001b[0m end \u001b[38;5;241m=\u001b[39m _w(s, end)\u001b[38;5;241m.\u001b[39mend()\n",
      "File \u001b[0;32m~/.pyenv/versions/3.10.4/lib/python3.10/json/decoder.py:353\u001b[0m, in \u001b[0;36mJSONDecoder.raw_decode\u001b[0;34m(self, s, idx)\u001b[0m\n\u001b[1;32m    352\u001b[0m \u001b[38;5;28;01mtry\u001b[39;00m:\n\u001b[0;32m--> 353\u001b[0m     obj, end \u001b[38;5;241m=\u001b[39m \u001b[38;5;28;43mself\u001b[39;49m\u001b[38;5;241;43m.\u001b[39;49m\u001b[43mscan_once\u001b[49m\u001b[43m(\u001b[49m\u001b[43ms\u001b[49m\u001b[43m,\u001b[49m\u001b[43m \u001b[49m\u001b[43midx\u001b[49m\u001b[43m)\u001b[49m\n\u001b[1;32m    354\u001b[0m \u001b[38;5;28;01mexcept\u001b[39;00m \u001b[38;5;167;01mStopIteration\u001b[39;00m \u001b[38;5;28;01mas\u001b[39;00m err:\n",
      "\u001b[0;31mJSONDecodeError\u001b[0m: Expecting ',' delimiter: line 45 column 20 (char 759)",
      "\nDuring handling of the above exception, another exception occurred:\n",
      "\u001b[0;31mJSONDecodeError\u001b[0m                           Traceback (most recent call last)",
      "File \u001b[0;32m~/D/RealWork/opensource-contributions/gpt-json-sanitizer/gpt_json_sanitizer/json_fixer.py:78\u001b[0m, in \u001b[0;36mfix_json_response\u001b[0;34m(response)\u001b[0m\n\u001b[1;32m     77\u001b[0m \u001b[38;5;28;01mtry\u001b[39;00m:\n\u001b[0;32m---> 78\u001b[0m     \u001b[38;5;28;01mreturn\u001b[39;00m \u001b[43mjson\u001b[49m\u001b[38;5;241;43m.\u001b[39;49m\u001b[43mloads\u001b[49m\u001b[43m(\u001b[49m\u001b[43mcleaned_string\u001b[49m\u001b[43m)\u001b[49m\n\u001b[1;32m     79\u001b[0m \u001b[38;5;28;01mexcept\u001b[39;00m json\u001b[38;5;241m.\u001b[39mJSONDecodeError:\n",
      "File \u001b[0;32m~/.pyenv/versions/3.10.4/lib/python3.10/json/__init__.py:346\u001b[0m, in \u001b[0;36mloads\u001b[0;34m(s, cls, object_hook, parse_float, parse_int, parse_constant, object_pairs_hook, **kw)\u001b[0m\n\u001b[1;32m    343\u001b[0m \u001b[38;5;28;01mif\u001b[39;00m (\u001b[38;5;28mcls\u001b[39m \u001b[38;5;129;01mis\u001b[39;00m \u001b[38;5;28;01mNone\u001b[39;00m \u001b[38;5;129;01mand\u001b[39;00m object_hook \u001b[38;5;129;01mis\u001b[39;00m \u001b[38;5;28;01mNone\u001b[39;00m \u001b[38;5;129;01mand\u001b[39;00m\n\u001b[1;32m    344\u001b[0m         parse_int \u001b[38;5;129;01mis\u001b[39;00m \u001b[38;5;28;01mNone\u001b[39;00m \u001b[38;5;129;01mand\u001b[39;00m parse_float \u001b[38;5;129;01mis\u001b[39;00m \u001b[38;5;28;01mNone\u001b[39;00m \u001b[38;5;129;01mand\u001b[39;00m\n\u001b[1;32m    345\u001b[0m         parse_constant \u001b[38;5;129;01mis\u001b[39;00m \u001b[38;5;28;01mNone\u001b[39;00m \u001b[38;5;129;01mand\u001b[39;00m object_pairs_hook \u001b[38;5;129;01mis\u001b[39;00m \u001b[38;5;28;01mNone\u001b[39;00m \u001b[38;5;129;01mand\u001b[39;00m \u001b[38;5;129;01mnot\u001b[39;00m kw):\n\u001b[0;32m--> 346\u001b[0m     \u001b[38;5;28;01mreturn\u001b[39;00m \u001b[43m_default_decoder\u001b[49m\u001b[38;5;241;43m.\u001b[39;49m\u001b[43mdecode\u001b[49m\u001b[43m(\u001b[49m\u001b[43ms\u001b[49m\u001b[43m)\u001b[49m\n\u001b[1;32m    347\u001b[0m \u001b[38;5;28;01mif\u001b[39;00m \u001b[38;5;28mcls\u001b[39m \u001b[38;5;129;01mis\u001b[39;00m \u001b[38;5;28;01mNone\u001b[39;00m:\n",
      "File \u001b[0;32m~/.pyenv/versions/3.10.4/lib/python3.10/json/decoder.py:337\u001b[0m, in \u001b[0;36mJSONDecoder.decode\u001b[0;34m(self, s, _w)\u001b[0m\n\u001b[1;32m    333\u001b[0m \u001b[38;5;250m\u001b[39m\u001b[38;5;124;03m\"\"\"Return the Python representation of ``s`` (a ``str`` instance\u001b[39;00m\n\u001b[1;32m    334\u001b[0m \u001b[38;5;124;03mcontaining a JSON document).\u001b[39;00m\n\u001b[1;32m    335\u001b[0m \n\u001b[1;32m    336\u001b[0m \u001b[38;5;124;03m\"\"\"\u001b[39;00m\n\u001b[0;32m--> 337\u001b[0m obj, end \u001b[38;5;241m=\u001b[39m \u001b[38;5;28;43mself\u001b[39;49m\u001b[38;5;241;43m.\u001b[39;49m\u001b[43mraw_decode\u001b[49m\u001b[43m(\u001b[49m\u001b[43ms\u001b[49m\u001b[43m,\u001b[49m\u001b[43m \u001b[49m\u001b[43midx\u001b[49m\u001b[38;5;241;43m=\u001b[39;49m\u001b[43m_w\u001b[49m\u001b[43m(\u001b[49m\u001b[43ms\u001b[49m\u001b[43m,\u001b[49m\u001b[43m \u001b[49m\u001b[38;5;241;43m0\u001b[39;49m\u001b[43m)\u001b[49m\u001b[38;5;241;43m.\u001b[39;49m\u001b[43mend\u001b[49m\u001b[43m(\u001b[49m\u001b[43m)\u001b[49m\u001b[43m)\u001b[49m\n\u001b[1;32m    338\u001b[0m end \u001b[38;5;241m=\u001b[39m _w(s, end)\u001b[38;5;241m.\u001b[39mend()\n",
      "File \u001b[0;32m~/.pyenv/versions/3.10.4/lib/python3.10/json/decoder.py:353\u001b[0m, in \u001b[0;36mJSONDecoder.raw_decode\u001b[0;34m(self, s, idx)\u001b[0m\n\u001b[1;32m    352\u001b[0m \u001b[38;5;28;01mtry\u001b[39;00m:\n\u001b[0;32m--> 353\u001b[0m     obj, end \u001b[38;5;241m=\u001b[39m \u001b[38;5;28;43mself\u001b[39;49m\u001b[38;5;241;43m.\u001b[39;49m\u001b[43mscan_once\u001b[49m\u001b[43m(\u001b[49m\u001b[43ms\u001b[49m\u001b[43m,\u001b[49m\u001b[43m \u001b[49m\u001b[43midx\u001b[49m\u001b[43m)\u001b[49m\n\u001b[1;32m    354\u001b[0m \u001b[38;5;28;01mexcept\u001b[39;00m \u001b[38;5;167;01mStopIteration\u001b[39;00m \u001b[38;5;28;01mas\u001b[39;00m err:\n",
      "\u001b[0;31mJSONDecodeError\u001b[0m: Expecting ',' delimiter: line 1 column 759 (char 758)",
      "\nDuring handling of the above exception, another exception occurred:\n",
      "\u001b[0;31mJSONDecodeError\u001b[0m                           Traceback (most recent call last)",
      "File \u001b[0;32m~/D/RealWork/opensource-contributions/gpt-json-sanitizer/gpt_json_sanitizer/json_fixer.py:83\u001b[0m, in \u001b[0;36mfix_json_response\u001b[0;34m(response)\u001b[0m\n\u001b[1;32m     82\u001b[0m         \u001b[38;5;66;03m#print(mod_inp)\u001b[39;00m\n\u001b[0;32m---> 83\u001b[0m         \u001b[38;5;28;01mreturn\u001b[39;00m \u001b[43mjson\u001b[49m\u001b[38;5;241;43m.\u001b[39;49m\u001b[43mloads\u001b[49m\u001b[43m(\u001b[49m\u001b[43mmod_inp\u001b[49m\u001b[43m)\u001b[49m\n\u001b[1;32m     84\u001b[0m \u001b[38;5;28;01mexcept\u001b[39;00m json\u001b[38;5;241m.\u001b[39mJSONDecodeError:\n",
      "File \u001b[0;32m~/.pyenv/versions/3.10.4/lib/python3.10/json/__init__.py:346\u001b[0m, in \u001b[0;36mloads\u001b[0;34m(s, cls, object_hook, parse_float, parse_int, parse_constant, object_pairs_hook, **kw)\u001b[0m\n\u001b[1;32m    343\u001b[0m \u001b[38;5;28;01mif\u001b[39;00m (\u001b[38;5;28mcls\u001b[39m \u001b[38;5;129;01mis\u001b[39;00m \u001b[38;5;28;01mNone\u001b[39;00m \u001b[38;5;129;01mand\u001b[39;00m object_hook \u001b[38;5;129;01mis\u001b[39;00m \u001b[38;5;28;01mNone\u001b[39;00m \u001b[38;5;129;01mand\u001b[39;00m\n\u001b[1;32m    344\u001b[0m         parse_int \u001b[38;5;129;01mis\u001b[39;00m \u001b[38;5;28;01mNone\u001b[39;00m \u001b[38;5;129;01mand\u001b[39;00m parse_float \u001b[38;5;129;01mis\u001b[39;00m \u001b[38;5;28;01mNone\u001b[39;00m \u001b[38;5;129;01mand\u001b[39;00m\n\u001b[1;32m    345\u001b[0m         parse_constant \u001b[38;5;129;01mis\u001b[39;00m \u001b[38;5;28;01mNone\u001b[39;00m \u001b[38;5;129;01mand\u001b[39;00m object_pairs_hook \u001b[38;5;129;01mis\u001b[39;00m \u001b[38;5;28;01mNone\u001b[39;00m \u001b[38;5;129;01mand\u001b[39;00m \u001b[38;5;129;01mnot\u001b[39;00m kw):\n\u001b[0;32m--> 346\u001b[0m     \u001b[38;5;28;01mreturn\u001b[39;00m \u001b[43m_default_decoder\u001b[49m\u001b[38;5;241;43m.\u001b[39;49m\u001b[43mdecode\u001b[49m\u001b[43m(\u001b[49m\u001b[43ms\u001b[49m\u001b[43m)\u001b[49m\n\u001b[1;32m    347\u001b[0m \u001b[38;5;28;01mif\u001b[39;00m \u001b[38;5;28mcls\u001b[39m \u001b[38;5;129;01mis\u001b[39;00m \u001b[38;5;28;01mNone\u001b[39;00m:\n",
      "File \u001b[0;32m~/.pyenv/versions/3.10.4/lib/python3.10/json/decoder.py:337\u001b[0m, in \u001b[0;36mJSONDecoder.decode\u001b[0;34m(self, s, _w)\u001b[0m\n\u001b[1;32m    333\u001b[0m \u001b[38;5;250m\u001b[39m\u001b[38;5;124;03m\"\"\"Return the Python representation of ``s`` (a ``str`` instance\u001b[39;00m\n\u001b[1;32m    334\u001b[0m \u001b[38;5;124;03mcontaining a JSON document).\u001b[39;00m\n\u001b[1;32m    335\u001b[0m \n\u001b[1;32m    336\u001b[0m \u001b[38;5;124;03m\"\"\"\u001b[39;00m\n\u001b[0;32m--> 337\u001b[0m obj, end \u001b[38;5;241m=\u001b[39m \u001b[38;5;28;43mself\u001b[39;49m\u001b[38;5;241;43m.\u001b[39;49m\u001b[43mraw_decode\u001b[49m\u001b[43m(\u001b[49m\u001b[43ms\u001b[49m\u001b[43m,\u001b[49m\u001b[43m \u001b[49m\u001b[43midx\u001b[49m\u001b[38;5;241;43m=\u001b[39;49m\u001b[43m_w\u001b[49m\u001b[43m(\u001b[49m\u001b[43ms\u001b[49m\u001b[43m,\u001b[49m\u001b[43m \u001b[49m\u001b[38;5;241;43m0\u001b[39;49m\u001b[43m)\u001b[49m\u001b[38;5;241;43m.\u001b[39;49m\u001b[43mend\u001b[49m\u001b[43m(\u001b[49m\u001b[43m)\u001b[49m\u001b[43m)\u001b[49m\n\u001b[1;32m    338\u001b[0m end \u001b[38;5;241m=\u001b[39m _w(s, end)\u001b[38;5;241m.\u001b[39mend()\n",
      "File \u001b[0;32m~/.pyenv/versions/3.10.4/lib/python3.10/json/decoder.py:353\u001b[0m, in \u001b[0;36mJSONDecoder.raw_decode\u001b[0;34m(self, s, idx)\u001b[0m\n\u001b[1;32m    352\u001b[0m \u001b[38;5;28;01mtry\u001b[39;00m:\n\u001b[0;32m--> 353\u001b[0m     obj, end \u001b[38;5;241m=\u001b[39m \u001b[38;5;28;43mself\u001b[39;49m\u001b[38;5;241;43m.\u001b[39;49m\u001b[43mscan_once\u001b[49m\u001b[43m(\u001b[49m\u001b[43ms\u001b[49m\u001b[43m,\u001b[49m\u001b[43m \u001b[49m\u001b[43midx\u001b[49m\u001b[43m)\u001b[49m\n\u001b[1;32m    354\u001b[0m \u001b[38;5;28;01mexcept\u001b[39;00m \u001b[38;5;167;01mStopIteration\u001b[39;00m \u001b[38;5;28;01mas\u001b[39;00m err:\n",
      "\u001b[0;31mJSONDecodeError\u001b[0m: Expecting ',' delimiter: line 1 column 760 (char 759)",
      "\nDuring handling of the above exception, another exception occurred:\n",
      "\u001b[0;31mValueError\u001b[0m                                Traceback (most recent call last)",
      "Cell \u001b[0;32mIn[5], line 1\u001b[0m\n\u001b[0;32m----> 1\u001b[0m \u001b[38;5;28mprint\u001b[39m(\u001b[43mfix_json_response\u001b[49m\u001b[43m(\u001b[49m\u001b[43mresponse\u001b[49m\u001b[43m)\u001b[49m)\n",
      "File \u001b[0;32m~/D/RealWork/opensource-contributions/gpt-json-sanitizer/gpt_json_sanitizer/json_fixer.py:85\u001b[0m, in \u001b[0;36mfix_json_response\u001b[0;34m(response)\u001b[0m\n\u001b[1;32m     83\u001b[0m         \u001b[38;5;28;01mreturn\u001b[39;00m json\u001b[38;5;241m.\u001b[39mloads(mod_inp)\n\u001b[1;32m     84\u001b[0m \u001b[38;5;28;01mexcept\u001b[39;00m json\u001b[38;5;241m.\u001b[39mJSONDecodeError:\n\u001b[0;32m---> 85\u001b[0m     \u001b[38;5;28;01mraise\u001b[39;00m \u001b[38;5;167;01mValueError\u001b[39;00m(\u001b[38;5;124m\"\u001b[39m\u001b[38;5;124mUnable to fix JSON response\u001b[39m\u001b[38;5;124m\"\u001b[39m)\n",
      "\u001b[0;31mValueError\u001b[0m: Unable to fix JSON response"
     ]
    }
   ],
   "source": [
    "print(fix_json_response(response))"
   ]
  },
  {
   "cell_type": "code",
   "execution_count": 6,
   "metadata": {},
   "outputs": [],
   "source": [
    "try2 = \"\"\"{   \"name\": \"Apple Pancakes\",   \"serving_size\": 1,   \"ingredients\": [     {       \"id\": 1,       \"name\": \"flour\",       \"quantity\": 1,       \"unit\": \"cup\"     },     {       \"id\": 2,       \"name\": \"apple\",       \"quantity\": 1,       \"unit\": \"large\",       \"notes\": \"peeled\"     },     {       \"id\": 3,       \"name\": \"sugar\",       \"quantity\": 1,       \"unit\": \"tablespoon\"     },     {       \"id\": 4,       \"name\": \"cinnamon\",       \"quantity\": 1,       \"unit\": \"tablespoon\"     },     {       \"id\": 5,       \"name\": \"baking powder\",       \"quantity\": 0.5,       \"unit\": \"teaspoon\"     },     {       \"id\": 6,       \"name\": \"vanilla extract\",       \"quantity\": 1,       \"unit\": \"teaspoon\"     },     {       \"id\": 7,       \"name\": \"milk\",       \"quantity\": 2/3,       \"unit\": \"cup\"     },     {       \"id\": 8,       \"name\": \"egg\",       \"quantity\": 1,       \"unit\": \"unit\"     },     {       \"id\": 9,       \"name\": \"butter\",       \"quantity\": 1,       \"unit\": \"tablespoon\"     }   ],   \"steps\": [     {       \"number\": 1,       \"description\": \"In a medium bowl, combine flour, sugar, cinnamon, and baking powder.\"     },     {       \"number\": 2,       \"description\": \"Separate the egg yolk and egg white.\",       \"preparation_time\": 5,       \"used_ingredients\": [8]     },     {       \"number\": 3,       \"description\": \"Whisk the egg white until foamy.\",       \"preparation_time\": 5,       \"used_ingredients\": [8]     },     {       \"number\": 4,       \"description\": \"Slice the peeled apple into thin strips or grate the apple.\",       \"preparation_time\": 5,       \"used_ingredients\": [2]     },     {       \"number\": 5,       \"description\": \"Combine dry ingredients, apple, vanilla extract, egg white, and milk into a homogenous batter.\",       \"preparation_time\": 5,       \"used_ingredients\": [1, 3, 4, 6, 7, 8, 2]     },     {       \"number\": 6,       \"description\": \"To a large pan, add butter. Add the batter (about 3 tbsp per pancake) and cook for 2 min per side on medium-high heat.\",       \"cooking_time\": 10,       \"used_ingredients\": [9, 5]     }   ],   \"total_preparation_time\": {     \"min\": 25,     \"max\": 25   },   \"total_cooking_time\": {     \"min\": 10,     \"max\": 10   },   \"total_waiting_time\": {     \"min\": 0,     \"max\": 0   },   \"comments\": [],   \"inference_assumptions\": [     \"Assumed that the recipe serves one person\",     \"Assumed that the `large` apple refers to a standard-sized apple\"   ] }\"\"\""
   ]
  },
  {
   "cell_type": "code",
   "execution_count": 7,
   "metadata": {},
   "outputs": [],
   "source": [
    "try3 = f\"[{try2}]\""
   ]
  },
  {
   "cell_type": "code",
   "execution_count": 12,
   "metadata": {},
   "outputs": [],
   "source": [
    "try4 = try3.strip()"
   ]
  },
  {
   "cell_type": "code",
   "execution_count": 13,
   "metadata": {},
   "outputs": [
    {
     "data": {
      "text/plain": [
       "'[{   \"name\": \"Apple Pancakes\",   \"serving_size\": 1,   \"ingredients\": [     {       \"id\": 1,       \"name\": \"flour\",       \"quantity\": 1,       \"unit\": \"cup\"     },     {       \"id\": 2,       \"name\": \"apple\",       \"quantity\": 1,       \"unit\": \"large\",       \"notes\": \"peeled\"     },     {       \"id\": 3,       \"name\": \"sugar\",       \"quantity\": 1,       \"unit\": \"tablespoon\"     },     {       \"id\": 4,       \"name\": \"cinnamon\",       \"quantity\": 1,       \"unit\": \"tablespoon\"     },     {       \"id\": 5,       \"name\": \"baking powder\",       \"quantity\": 0.5,       \"unit\": \"teaspoon\"     },     {       \"id\": 6,       \"name\": \"vanilla extract\",       \"quantity\": 1,       \"unit\": \"teaspoon\"     },     {       \"id\": 7,       \"name\": \"milk\",       \"quantity\": 2/3,       \"unit\": \"cup\"     },     {       \"id\": 8,       \"name\": \"egg\",       \"quantity\": 1,       \"unit\": \"unit\"     },     {       \"id\": 9,       \"name\": \"butter\",       \"quantity\": 1,       \"unit\": \"tablespoon\"     }   ],   \"steps\": [     {       \"number\": 1,       \"description\": \"In a medium bowl, combine flour, sugar, cinnamon, and baking powder.\"     },     {       \"number\": 2,       \"description\": \"Separate the egg yolk and egg white.\",       \"preparation_time\": 5,       \"used_ingredients\": [8]     },     {       \"number\": 3,       \"description\": \"Whisk the egg white until foamy.\",       \"preparation_time\": 5,       \"used_ingredients\": [8]     },     {       \"number\": 4,       \"description\": \"Slice the peeled apple into thin strips or grate the apple.\",       \"preparation_time\": 5,       \"used_ingredients\": [2]     },     {       \"number\": 5,       \"description\": \"Combine dry ingredients, apple, vanilla extract, egg white, and milk into a homogenous batter.\",       \"preparation_time\": 5,       \"used_ingredients\": [1, 3, 4, 6, 7, 8, 2]     },     {       \"number\": 6,       \"description\": \"To a large pan, add butter. Add the batter (about 3 tbsp per pancake) and cook for 2 min per side on medium-high heat.\",       \"cooking_time\": 10,       \"used_ingredients\": [9, 5]     }   ],   \"total_preparation_time\": {     \"min\": 25,     \"max\": 25   },   \"total_cooking_time\": {     \"min\": 10,     \"max\": 10   },   \"total_waiting_time\": {     \"min\": 0,     \"max\": 0   },   \"comments\": [],   \"inference_assumptions\": [     \"Assumed that the recipe serves one person\",     \"Assumed that the `large` apple refers to a standard-sized apple\"   ] }]'"
      ]
     },
     "execution_count": 13,
     "metadata": {},
     "output_type": "execute_result"
    }
   ],
   "source": [
    "try4"
   ]
  },
  {
   "cell_type": "code",
   "execution_count": 11,
   "metadata": {},
   "outputs": [
    {
     "ename": "JSONDecodeError",
     "evalue": "Expecting ',' delimiter: line 1 column 760 (char 759)",
     "output_type": "error",
     "traceback": [
      "\u001b[0;31m---------------------------------------------------------------------------\u001b[0m",
      "\u001b[0;31mJSONDecodeError\u001b[0m                           Traceback (most recent call last)",
      "Cell \u001b[0;32mIn[11], line 1\u001b[0m\n\u001b[0;32m----> 1\u001b[0m \u001b[43mjson\u001b[49m\u001b[38;5;241;43m.\u001b[39;49m\u001b[43mloads\u001b[49m\u001b[43m(\u001b[49m\u001b[43mtry3\u001b[49m\u001b[43m)\u001b[49m\n",
      "File \u001b[0;32m~/.pyenv/versions/3.10.4/lib/python3.10/json/__init__.py:346\u001b[0m, in \u001b[0;36mloads\u001b[0;34m(s, cls, object_hook, parse_float, parse_int, parse_constant, object_pairs_hook, **kw)\u001b[0m\n\u001b[1;32m    341\u001b[0m     s \u001b[38;5;241m=\u001b[39m s\u001b[38;5;241m.\u001b[39mdecode(detect_encoding(s), \u001b[38;5;124m'\u001b[39m\u001b[38;5;124msurrogatepass\u001b[39m\u001b[38;5;124m'\u001b[39m)\n\u001b[1;32m    343\u001b[0m \u001b[38;5;28;01mif\u001b[39;00m (\u001b[38;5;28mcls\u001b[39m \u001b[38;5;129;01mis\u001b[39;00m \u001b[38;5;28;01mNone\u001b[39;00m \u001b[38;5;129;01mand\u001b[39;00m object_hook \u001b[38;5;129;01mis\u001b[39;00m \u001b[38;5;28;01mNone\u001b[39;00m \u001b[38;5;129;01mand\u001b[39;00m\n\u001b[1;32m    344\u001b[0m         parse_int \u001b[38;5;129;01mis\u001b[39;00m \u001b[38;5;28;01mNone\u001b[39;00m \u001b[38;5;129;01mand\u001b[39;00m parse_float \u001b[38;5;129;01mis\u001b[39;00m \u001b[38;5;28;01mNone\u001b[39;00m \u001b[38;5;129;01mand\u001b[39;00m\n\u001b[1;32m    345\u001b[0m         parse_constant \u001b[38;5;129;01mis\u001b[39;00m \u001b[38;5;28;01mNone\u001b[39;00m \u001b[38;5;129;01mand\u001b[39;00m object_pairs_hook \u001b[38;5;129;01mis\u001b[39;00m \u001b[38;5;28;01mNone\u001b[39;00m \u001b[38;5;129;01mand\u001b[39;00m \u001b[38;5;129;01mnot\u001b[39;00m kw):\n\u001b[0;32m--> 346\u001b[0m     \u001b[38;5;28;01mreturn\u001b[39;00m \u001b[43m_default_decoder\u001b[49m\u001b[38;5;241;43m.\u001b[39;49m\u001b[43mdecode\u001b[49m\u001b[43m(\u001b[49m\u001b[43ms\u001b[49m\u001b[43m)\u001b[49m\n\u001b[1;32m    347\u001b[0m \u001b[38;5;28;01mif\u001b[39;00m \u001b[38;5;28mcls\u001b[39m \u001b[38;5;129;01mis\u001b[39;00m \u001b[38;5;28;01mNone\u001b[39;00m:\n\u001b[1;32m    348\u001b[0m     \u001b[38;5;28mcls\u001b[39m \u001b[38;5;241m=\u001b[39m JSONDecoder\n",
      "File \u001b[0;32m~/.pyenv/versions/3.10.4/lib/python3.10/json/decoder.py:337\u001b[0m, in \u001b[0;36mJSONDecoder.decode\u001b[0;34m(self, s, _w)\u001b[0m\n\u001b[1;32m    332\u001b[0m \u001b[38;5;28;01mdef\u001b[39;00m \u001b[38;5;21mdecode\u001b[39m(\u001b[38;5;28mself\u001b[39m, s, _w\u001b[38;5;241m=\u001b[39mWHITESPACE\u001b[38;5;241m.\u001b[39mmatch):\n\u001b[1;32m    333\u001b[0m \u001b[38;5;250m    \u001b[39m\u001b[38;5;124;03m\"\"\"Return the Python representation of ``s`` (a ``str`` instance\u001b[39;00m\n\u001b[1;32m    334\u001b[0m \u001b[38;5;124;03m    containing a JSON document).\u001b[39;00m\n\u001b[1;32m    335\u001b[0m \n\u001b[1;32m    336\u001b[0m \u001b[38;5;124;03m    \"\"\"\u001b[39;00m\n\u001b[0;32m--> 337\u001b[0m     obj, end \u001b[38;5;241m=\u001b[39m \u001b[38;5;28;43mself\u001b[39;49m\u001b[38;5;241;43m.\u001b[39;49m\u001b[43mraw_decode\u001b[49m\u001b[43m(\u001b[49m\u001b[43ms\u001b[49m\u001b[43m,\u001b[49m\u001b[43m \u001b[49m\u001b[43midx\u001b[49m\u001b[38;5;241;43m=\u001b[39;49m\u001b[43m_w\u001b[49m\u001b[43m(\u001b[49m\u001b[43ms\u001b[49m\u001b[43m,\u001b[49m\u001b[43m \u001b[49m\u001b[38;5;241;43m0\u001b[39;49m\u001b[43m)\u001b[49m\u001b[38;5;241;43m.\u001b[39;49m\u001b[43mend\u001b[49m\u001b[43m(\u001b[49m\u001b[43m)\u001b[49m\u001b[43m)\u001b[49m\n\u001b[1;32m    338\u001b[0m     end \u001b[38;5;241m=\u001b[39m _w(s, end)\u001b[38;5;241m.\u001b[39mend()\n\u001b[1;32m    339\u001b[0m     \u001b[38;5;28;01mif\u001b[39;00m end \u001b[38;5;241m!=\u001b[39m \u001b[38;5;28mlen\u001b[39m(s):\n",
      "File \u001b[0;32m~/.pyenv/versions/3.10.4/lib/python3.10/json/decoder.py:353\u001b[0m, in \u001b[0;36mJSONDecoder.raw_decode\u001b[0;34m(self, s, idx)\u001b[0m\n\u001b[1;32m    344\u001b[0m \u001b[38;5;250m\u001b[39m\u001b[38;5;124;03m\"\"\"Decode a JSON document from ``s`` (a ``str`` beginning with\u001b[39;00m\n\u001b[1;32m    345\u001b[0m \u001b[38;5;124;03ma JSON document) and return a 2-tuple of the Python\u001b[39;00m\n\u001b[1;32m    346\u001b[0m \u001b[38;5;124;03mrepresentation and the index in ``s`` where the document ended.\u001b[39;00m\n\u001b[0;32m   (...)\u001b[0m\n\u001b[1;32m    350\u001b[0m \n\u001b[1;32m    351\u001b[0m \u001b[38;5;124;03m\"\"\"\u001b[39;00m\n\u001b[1;32m    352\u001b[0m \u001b[38;5;28;01mtry\u001b[39;00m:\n\u001b[0;32m--> 353\u001b[0m     obj, end \u001b[38;5;241m=\u001b[39m \u001b[38;5;28;43mself\u001b[39;49m\u001b[38;5;241;43m.\u001b[39;49m\u001b[43mscan_once\u001b[49m\u001b[43m(\u001b[49m\u001b[43ms\u001b[49m\u001b[43m,\u001b[49m\u001b[43m \u001b[49m\u001b[43midx\u001b[49m\u001b[43m)\u001b[49m\n\u001b[1;32m    354\u001b[0m \u001b[38;5;28;01mexcept\u001b[39;00m \u001b[38;5;167;01mStopIteration\u001b[39;00m \u001b[38;5;28;01mas\u001b[39;00m err:\n\u001b[1;32m    355\u001b[0m     \u001b[38;5;28;01mraise\u001b[39;00m JSONDecodeError(\u001b[38;5;124m\"\u001b[39m\u001b[38;5;124mExpecting value\u001b[39m\u001b[38;5;124m\"\u001b[39m, s, err\u001b[38;5;241m.\u001b[39mvalue) \u001b[38;5;28;01mfrom\u001b[39;00m \u001b[38;5;28;01mNone\u001b[39;00m\n",
      "\u001b[0;31mJSONDecodeError\u001b[0m: Expecting ',' delimiter: line 1 column 760 (char 759)"
     ]
    }
   ],
   "source": [
    "json.loads(try3)"
   ]
  },
  {
   "cell_type": "code",
   "execution_count": 14,
   "metadata": {},
   "outputs": [],
   "source": [
    "import json\n",
    "import re\n",
    "\n",
    "def fix_json_response(response: str) -> dict:\n",
    "    \"\"\"\n",
    "    Fixes common JSON formatting issues in a string response.\n",
    "    \n",
    "    Args:\n",
    "        response (str): The response string from ChatGPT.\n",
    "        \n",
    "    Returns:\n",
    "        dict: The JSON-compatible dictionary.\n",
    "    \"\"\"\n",
    "    # Attempt to parse the JSON without any modifications\n",
    "    try:\n",
    "        return json.loads(response)\n",
    "    except json.JSONDecodeError:\n",
    "        pass  # If it fails, continue with the processing steps\n",
    "    \n",
    "    # Remove markdown JSON code fences and the `json` keyword\n",
    "    response = re.sub(r'```json\\n|```|json', '', response)\n",
    "    \n",
    "    # Replace non-standard quotes with standard double quotes\n",
    "    response = response.replace('“', '\"').replace('”', '\"')\n",
    "    \n",
    "    # Replace invalid fractions with their approximate decimal equivalents\n",
    "    response = re.sub(r'(\\d+)/(\\d+)', lambda m: str(float(m.group(1)) / float(m.group(2))), response)\n",
    "    \n",
    "    # Strip leading and trailing whitespace\n",
    "    response = response.strip()\n",
    "    \n",
    "    # Attempt to find JSON object or array within the string\n",
    "    match = re.search(r'\\{[\\s\\S]*\\}|\\[[\\s\\S]*\\]', response)\n",
    "    \n",
    "    if match:\n",
    "        cleaned_string = match.group(0)\n",
    "    else:\n",
    "        # If no JSON object or array is found, assume the whole response needs fixing\n",
    "        cleaned_string = response\n",
    "    \n",
    "    # Count the number of opening and closing braces\n",
    "    open_curly = cleaned_string.count('{')\n",
    "    close_curly = cleaned_string.count('}')\n",
    "    open_square = cleaned_string.count('[')\n",
    "    close_square = cleaned_string.count(']')\n",
    "    \n",
    "    # Attempt to add enclosing brackets if missing\n",
    "    if open_curly == 1 and close_curly == 0:\n",
    "        cleaned_string += '}'\n",
    "    elif close_curly == 1 and open_curly == 0:\n",
    "        cleaned_string = '{' + cleaned_string\n",
    "    elif open_square == 1 and close_square == 0:\n",
    "        cleaned_string += ']'\n",
    "    elif close_square == 1 and open_square == 0:\n",
    "        cleaned_string = '[' + cleaned_string\n",
    "\n",
    "    # Handle case where both opening and closing brackets are missing\n",
    "    if open_curly == 0 and close_curly == 0 and open_square == 0 and close_square == 0:\n",
    "        cleaned_string = '{' + cleaned_string + '}'\n",
    "    \n",
    "    # Attempt to fix common issues and parse the JSON\n",
    "    try:\n",
    "        return json.loads(cleaned_string)\n",
    "    except json.JSONDecodeError:\n",
    "        # Handle common issues\n",
    "        cleaned_string = cleaned_string.replace(\"'\", '\"')  # Replace single quotes with double quotes\n",
    "        cleaned_string = cleaned_string.replace(\"\\n\", \" \")  # Remove newlines\n",
    "        cleaned_string = cleaned_string.replace(\"\\t\", \" \")  # Remove tabs\n",
    "\n",
    "        try:\n",
    "            return json.loads(cleaned_string)\n",
    "        except json.JSONDecodeError:\n",
    "            try:\n",
    "                wrapped_string = f\"[{cleaned_string}]\"\n",
    "                return json.loads(wrapped_string)\n",
    "            except json.JSONDecodeError:\n",
    "                raise ValueError(\"Unable to fix JSON response\")\n",
    "\n"
   ]
  },
  {
   "cell_type": "code",
   "execution_count": 16,
   "metadata": {},
   "outputs": [],
   "source": [
    "result = fix_json_response(response)"
   ]
  },
  {
   "cell_type": "code",
   "execution_count": 17,
   "metadata": {},
   "outputs": [
    {
     "data": {
      "text/plain": [
       "{'name': 'Apple Pancakes',\n",
       " 'serving_size': 1,\n",
       " 'ingredients': [{'id': 1, 'name': 'flour', 'quantity': 1, 'unit': 'cup'},\n",
       "  {'id': 2,\n",
       "   'name': 'apple',\n",
       "   'quantity': 1,\n",
       "   'unit': 'large',\n",
       "   'notes': 'peeled'},\n",
       "  {'id': 3, 'name': 'sugar', 'quantity': 1, 'unit': 'tablespoon'},\n",
       "  {'id': 4, 'name': 'cinnamon', 'quantity': 1, 'unit': 'tablespoon'},\n",
       "  {'id': 5, 'name': 'baking powder', 'quantity': 0.5, 'unit': 'teaspoon'},\n",
       "  {'id': 6, 'name': 'vanilla extract', 'quantity': 1, 'unit': 'teaspoon'},\n",
       "  {'id': 7, 'name': 'milk', 'quantity': 0.6666666666666666, 'unit': 'cup'},\n",
       "  {'id': 8, 'name': 'egg', 'quantity': 1, 'unit': 'unit'},\n",
       "  {'id': 9, 'name': 'butter', 'quantity': 1, 'unit': 'tablespoon'}],\n",
       " 'steps': [{'number': 1,\n",
       "   'description': 'In a medium bowl, combine flour, sugar, cinnamon, and baking powder.'},\n",
       "  {'number': 2,\n",
       "   'description': 'Separate the egg yolk and egg white.',\n",
       "   'preparation_time': 5,\n",
       "   'used_ingredients': [8]},\n",
       "  {'number': 3,\n",
       "   'description': 'Whisk the egg white until foamy.',\n",
       "   'preparation_time': 5,\n",
       "   'used_ingredients': [8]},\n",
       "  {'number': 4,\n",
       "   'description': 'Slice the peeled apple into thin strips or grate the apple.',\n",
       "   'preparation_time': 5,\n",
       "   'used_ingredients': [2]},\n",
       "  {'number': 5,\n",
       "   'description': 'Combine dry ingredients, apple, vanilla extract, egg white, and milk into a homogenous batter.',\n",
       "   'preparation_time': 5,\n",
       "   'used_ingredients': [1, 3, 4, 6, 7, 8, 2]},\n",
       "  {'number': 6,\n",
       "   'description': 'To a large pan, add butter. Add the batter (about 3 tbsp per pancake) and cook for 2 min per side on medium-high heat.',\n",
       "   'cooking_time': 10,\n",
       "   'used_ingredients': [9, 5]}],\n",
       " 'total_preparation_time': {'min': 25, 'max': 25},\n",
       " 'total_cooking_time': {'min': 10, 'max': 10},\n",
       " 'total_waiting_time': {'min': 0, 'max': 0},\n",
       " 'comments': [],\n",
       " 'inference_assumptions': ['Assumed that the recipe serves one person',\n",
       "  'Assumed that the `large` apple refers to a standard-sized apple']}"
      ]
     },
     "execution_count": 17,
     "metadata": {},
     "output_type": "execute_result"
    }
   ],
   "source": [
    "result"
   ]
  },
  {
   "cell_type": "code",
   "execution_count": null,
   "metadata": {},
   "outputs": [],
   "source": []
  }
 ],
 "metadata": {
  "kernelspec": {
   "display_name": "Python 3",
   "language": "python",
   "name": "python3"
  },
  "language_info": {
   "codemirror_mode": {
    "name": "ipython",
    "version": 3
   },
   "file_extension": ".py",
   "mimetype": "text/x-python",
   "name": "python",
   "nbconvert_exporter": "python",
   "pygments_lexer": "ipython3",
   "version": "3.10.4"
  }
 },
 "nbformat": 4,
 "nbformat_minor": 2
}
